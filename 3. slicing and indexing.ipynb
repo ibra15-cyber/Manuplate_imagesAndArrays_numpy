{
 "cells": [
  {
   "cell_type": "code",
   "execution_count": 1,
   "id": "7329133d",
   "metadata": {},
   "outputs": [],
   "source": [
    "import numpy\n",
    "import cv2"
   ]
  },
  {
   "cell_type": "code",
   "execution_count": 3,
   "id": "8434f38d",
   "metadata": {},
   "outputs": [],
   "source": [
    "img_gray = cv2.imread('smallgray.png', 0)"
   ]
  },
  {
   "cell_type": "code",
   "execution_count": 4,
   "id": "0b1dacdf",
   "metadata": {},
   "outputs": [
    {
     "data": {
      "text/plain": [
       "array([[187, 158, 104, 121, 143],\n",
       "       [198, 125, 255, 255, 147],\n",
       "       [209, 134, 255,  97, 182]], dtype=uint8)"
      ]
     },
     "execution_count": 4,
     "metadata": {},
     "output_type": "execute_result"
    }
   ],
   "source": [
    "img_gray"
   ]
  },
  {
   "cell_type": "code",
   "execution_count": null,
   "id": "9ec023e9",
   "metadata": {},
   "outputs": [],
   "source": []
  },
  {
   "cell_type": "code",
   "execution_count": null,
   "id": "7ff854bd",
   "metadata": {},
   "outputs": [],
   "source": [
    "##indexing ................................."
   ]
  },
  {
   "cell_type": "code",
   "execution_count": 5,
   "id": "94814f2f",
   "metadata": {},
   "outputs": [
    {
     "data": {
      "text/plain": [
       "255"
      ]
     },
     "execution_count": 5,
     "metadata": {},
     "output_type": "execute_result"
    }
   ],
   "source": [
    "img_gray[1][3] #get the number on second row col 4"
   ]
  },
  {
   "cell_type": "code",
   "execution_count": 6,
   "id": "c6d1e631",
   "metadata": {},
   "outputs": [
    {
     "data": {
      "text/plain": [
       "array([[187, 158, 104, 121, 143],\n",
       "       [198, 125, 255, 255, 147]], dtype=uint8)"
      ]
     },
     "execution_count": 6,
     "metadata": {},
     "output_type": "execute_result"
    }
   ],
   "source": [
    "img_gray[:2] #first 2 rows"
   ]
  },
  {
   "cell_type": "code",
   "execution_count": 15,
   "id": "62e2a002",
   "metadata": {},
   "outputs": [
    {
     "data": {
      "text/plain": [
       "array([125, 255, 255], dtype=uint8)"
      ]
     },
     "execution_count": 15,
     "metadata": {},
     "output_type": "execute_result"
    }
   ],
   "source": [
    "img_gray[:2][1][1:4] #first two rows, second line, col 1 to 4 exclusive"
   ]
  },
  {
   "cell_type": "code",
   "execution_count": 18,
   "id": "a598ffc3",
   "metadata": {},
   "outputs": [
    {
     "data": {
      "text/plain": [
       "array([[104, 121],\n",
       "       [255, 255]], dtype=uint8)"
      ]
     },
     "execution_count": 18,
     "metadata": {},
     "output_type": "execute_result"
    }
   ],
   "source": [
    "img_gray[0:2, 2:4] #first two rows and 1:4 col"
   ]
  },
  {
   "cell_type": "code",
   "execution_count": 19,
   "id": "175197a3",
   "metadata": {},
   "outputs": [
    {
     "data": {
      "text/plain": [
       "(3, 5)"
      ]
     },
     "execution_count": 19,
     "metadata": {},
     "output_type": "execute_result"
    }
   ],
   "source": [
    "img_gray.shape"
   ]
  },
  {
   "cell_type": "code",
   "execution_count": 21,
   "id": "d0b577ec",
   "metadata": {},
   "outputs": [
    {
     "data": {
      "text/plain": [
       "array([[187, 158, 104, 121, 143],\n",
       "       [198, 125, 255, 255, 147],\n",
       "       [209, 134, 255,  97, 182]], dtype=uint8)"
      ]
     },
     "execution_count": 21,
     "metadata": {},
     "output_type": "execute_result"
    }
   ],
   "source": [
    "img_gray"
   ]
  },
  {
   "cell_type": "code",
   "execution_count": 22,
   "id": "7ce9e042",
   "metadata": {},
   "outputs": [
    {
     "data": {
      "text/plain": [
       "array([[187, 158, 104],\n",
       "       [198, 125, 255],\n",
       "       [209, 134, 255]], dtype=uint8)"
      ]
     },
     "execution_count": 22,
     "metadata": {},
     "output_type": "execute_result"
    }
   ],
   "source": [
    "#all 3 rows but first 3 col\n",
    "img_gray[:, 0:3]"
   ]
  },
  {
   "cell_type": "code",
   "execution_count": 23,
   "id": "5281a36d",
   "metadata": {},
   "outputs": [
    {
     "data": {
      "text/plain": [
       "array([[125, 255, 255, 147],\n",
       "       [134, 255,  97, 182]], dtype=uint8)"
      ]
     },
     "execution_count": 23,
     "metadata": {},
     "output_type": "execute_result"
    }
   ],
   "source": [
    "#last two row col 2 to 4 inclusive\n",
    "img_gray[1:, 1:5]"
   ]
  },
  {
   "cell_type": "code",
   "execution_count": null,
   "id": "a16f6196",
   "metadata": {},
   "outputs": [],
   "source": []
  },
  {
   "cell_type": "code",
   "execution_count": 24,
   "id": "2bd6f36a",
   "metadata": {},
   "outputs": [],
   "source": [
    "#iterating"
   ]
  },
  {
   "cell_type": "code",
   "execution_count": 36,
   "id": "8e6add38",
   "metadata": {},
   "outputs": [
    {
     "name": "stdout",
     "output_type": "stream",
     "text": [
      "[187 158 104 121 143]\n",
      "[198 125 255 255 147]\n",
      "[209 134 255  97 182]\n"
     ]
    }
   ],
   "source": [
    "for i in img_gray:\n",
    "    print(i)"
   ]
  },
  {
   "cell_type": "code",
   "execution_count": 26,
   "id": "64ba173e",
   "metadata": {},
   "outputs": [
    {
     "name": "stdout",
     "output_type": "stream",
     "text": [
      "187\n",
      "158\n",
      "104\n",
      "121\n",
      "143\n",
      "198\n",
      "125\n",
      "255\n",
      "255\n",
      "147\n",
      "209\n",
      "134\n",
      "255\n",
      "97\n",
      "182\n"
     ]
    }
   ],
   "source": [
    "for i in img_gray:\n",
    "    for j in i:\n",
    "        print(j) #print everything inline"
   ]
  },
  {
   "cell_type": "code",
   "execution_count": 37,
   "id": "1365a350",
   "metadata": {},
   "outputs": [
    {
     "name": "stdout",
     "output_type": "stream",
     "text": [
      "187\n",
      "158\n",
      "104\n",
      "121\n",
      "143\n",
      "198\n",
      "125\n",
      "255\n",
      "255\n",
      "147\n",
      "209\n",
      "134\n",
      "255\n",
      "97\n",
      "182\n"
     ]
    }
   ],
   "source": [
    "#same as above\n",
    "for i in img_gray.flat:\n",
    "    print(i)"
   ]
  },
  {
   "cell_type": "code",
   "execution_count": 29,
   "id": "971ea5a5",
   "metadata": {},
   "outputs": [
    {
     "name": "stdout",
     "output_type": "stream",
     "text": [
      "[187 198 209]\n",
      "[158 125 134]\n",
      "[104 255 255]\n",
      "[121 255  97]\n",
      "[143 147 182]\n"
     ]
    }
   ],
   "source": [
    "for i in img_gray.T:\n",
    "    print(i) "
   ]
  },
  {
   "cell_type": "code",
   "execution_count": 41,
   "id": "56730f73",
   "metadata": {},
   "outputs": [
    {
     "name": "stdout",
     "output_type": "stream",
     "text": [
      "187\n",
      "198\n",
      "209\n",
      "158\n",
      "125\n",
      "134\n",
      "104\n",
      "255\n",
      "255\n",
      "121\n",
      "255\n",
      "97\n",
      "143\n",
      "147\n",
      "182\n"
     ]
    }
   ],
   "source": [
    "img_grayT = img_gray.T #making it a Transpose\n",
    "for i in img_grayT.flat: #iterating and printing\n",
    "    print(i)"
   ]
  },
  {
   "cell_type": "code",
   "execution_count": null,
   "id": "029db096",
   "metadata": {},
   "outputs": [],
   "source": []
  }
 ],
 "metadata": {
  "kernelspec": {
   "display_name": "Python 3 (ipykernel)",
   "language": "python",
   "name": "python3"
  },
  "language_info": {
   "codemirror_mode": {
    "name": "ipython",
    "version": 3
   },
   "file_extension": ".py",
   "mimetype": "text/x-python",
   "name": "python",
   "nbconvert_exporter": "python",
   "pygments_lexer": "ipython3",
   "version": "3.9.7"
  }
 },
 "nbformat": 4,
 "nbformat_minor": 5
}
