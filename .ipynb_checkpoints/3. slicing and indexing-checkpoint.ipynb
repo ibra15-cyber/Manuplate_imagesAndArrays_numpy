{
 "cells": [
  {
   "cell_type": "code",
   "execution_count": 1,
   "id": "1742678d",
   "metadata": {},
   "outputs": [],
   "source": [
    "import numpy\n",
    "import cv2"
   ]
  },
  {
   "cell_type": "code",
   "execution_count": 3,
   "id": "b76f30e2",
   "metadata": {},
   "outputs": [],
   "source": [
    "img_gray = cv2.imread('smallgray.png', 0)"
   ]
  },
  {
   "cell_type": "code",
   "execution_count": 4,
   "id": "6c234725",
   "metadata": {},
   "outputs": [
    {
     "data": {
      "text/plain": [
       "array([[187, 158, 104, 121, 143],\n",
       "       [198, 125, 255, 255, 147],\n",
       "       [209, 134, 255,  97, 182]], dtype=uint8)"
      ]
     },
     "execution_count": 4,
     "metadata": {},
     "output_type": "execute_result"
    }
   ],
   "source": [
    "img_gray"
   ]
  },
  {
   "cell_type": "code",
   "execution_count": 5,
   "id": "720e525b",
   "metadata": {},
   "outputs": [
    {
     "data": {
      "text/plain": [
       "255"
      ]
     },
     "execution_count": 5,
     "metadata": {},
     "output_type": "execute_result"
    }
   ],
   "source": [
    "img_gray[1][3] #get the number on second row col 4"
   ]
  },
  {
   "cell_type": "code",
   "execution_count": 6,
   "id": "281571e6",
   "metadata": {},
   "outputs": [
    {
     "data": {
      "text/plain": [
       "array([[187, 158, 104, 121, 143],\n",
       "       [198, 125, 255, 255, 147]], dtype=uint8)"
      ]
     },
     "execution_count": 6,
     "metadata": {},
     "output_type": "execute_result"
    }
   ],
   "source": [
    "img_gray[:2] #first 2 rows"
   ]
  },
  {
   "cell_type": "code",
   "execution_count": 15,
   "id": "cdfa4742",
   "metadata": {},
   "outputs": [
    {
     "data": {
      "text/plain": [
       "array([125, 255, 255], dtype=uint8)"
      ]
     },
     "execution_count": 15,
     "metadata": {},
     "output_type": "execute_result"
    }
   ],
   "source": [
    "img_gray[:2][1][1:4] #first two rows, second line, col 1 to 4 exclusive"
   ]
  },
  {
   "cell_type": "code",
   "execution_count": 17,
   "id": "9450c117",
   "metadata": {},
   "outputs": [
    {
     "data": {
      "text/plain": [
       "array([[158, 104, 121],\n",
       "       [125, 255, 255]], dtype=uint8)"
      ]
     },
     "execution_count": 17,
     "metadata": {},
     "output_type": "execute_result"
    }
   ],
   "source": [
    "img_gray[0:2, 2:4] #first two rows and 1:4 col"
   ]
  },
  {
   "cell_type": "code",
   "execution_count": null,
   "id": "8377ba86",
   "metadata": {},
   "outputs": [],
   "source": []
  }
 ],
 "metadata": {
  "kernelspec": {
   "display_name": "Python 3 (ipykernel)",
   "language": "python",
   "name": "python3"
  },
  "language_info": {
   "codemirror_mode": {
    "name": "ipython",
    "version": 3
   },
   "file_extension": ".py",
   "mimetype": "text/x-python",
   "name": "python",
   "nbconvert_exporter": "python",
   "pygments_lexer": "ipython3",
   "version": "3.9.7"
  }
 },
 "nbformat": 4,
 "nbformat_minor": 5
}
