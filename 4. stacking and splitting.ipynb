{
 "cells": [
  {
   "cell_type": "code",
   "execution_count": 49,
   "id": "bc8c5268",
   "metadata": {},
   "outputs": [],
   "source": [
    "import numpy\n",
    "import cv2"
   ]
  },
  {
   "cell_type": "code",
   "execution_count": 50,
   "id": "57e43cd8",
   "metadata": {},
   "outputs": [],
   "source": [
    "img_gray=cv2.imread('smallgray.png', 0)"
   ]
  },
  {
   "cell_type": "code",
   "execution_count": 51,
   "id": "1b00318d",
   "metadata": {},
   "outputs": [
    {
     "data": {
      "text/plain": [
       "array([[187, 158, 104, 121, 143],\n",
       "       [198, 125, 255, 255, 147],\n",
       "       [209, 134, 255,  97, 182]], dtype=uint8)"
      ]
     },
     "execution_count": 51,
     "metadata": {},
     "output_type": "execute_result"
    }
   ],
   "source": [
    "img_gray"
   ]
  },
  {
   "cell_type": "code",
   "execution_count": 52,
   "id": "e2e00faa",
   "metadata": {},
   "outputs": [],
   "source": [
    "#stacking two arrays\n",
    "\n",
    "myArray = [\n",
    "    [1, 2, 3, 4, 5,],\n",
    "    [2, 4, 6, 8, 10],\n",
    "    [3, 6, 9, 12, 15]\n",
    "]"
   ]
  },
  {
   "cell_type": "code",
   "execution_count": null,
   "id": "f1af8824",
   "metadata": {},
   "outputs": [],
   "source": []
  },
  {
   "cell_type": "code",
   "execution_count": 53,
   "id": "180fdb25",
   "metadata": {},
   "outputs": [],
   "source": [
    "#STACK OR JOIN TWO ARRAYS"
   ]
  },
  {
   "cell_type": "code",
   "execution_count": 64,
   "id": "3feb0819",
   "metadata": {},
   "outputs": [
    {
     "data": {
      "text/plain": [
       "array([[  1,   2,   3,   4,   5, 187, 158, 104, 121, 143],\n",
       "       [  2,   4,   6,   8,  10, 198, 125, 255, 255, 147],\n",
       "       [  3,   6,   9,  12,  15, 209, 134, 255,  97, 182]])"
      ]
     },
     "execution_count": 64,
     "metadata": {},
     "output_type": "execute_result"
    }
   ],
   "source": [
    "joinedArrayH=numpy.hstack((myArray, img_gray)) #stack horizontally\n",
    "joinedArrayH"
   ]
  },
  {
   "cell_type": "code",
   "execution_count": null,
   "id": "73ff1e28",
   "metadata": {},
   "outputs": [],
   "source": []
  },
  {
   "cell_type": "code",
   "execution_count": 77,
   "id": "8cdd28ce",
   "metadata": {},
   "outputs": [
    {
     "data": {
      "text/plain": [
       "[array([[ 1,  2,  3,  4,  5],\n",
       "        [ 2,  4,  6,  8, 10],\n",
       "        [ 3,  6,  9, 12, 15]]),\n",
       " array([[187, 158, 104, 121, 143],\n",
       "        [198, 125, 255, 255, 147],\n",
       "        [209, 134, 255,  97, 182]])]"
      ]
     },
     "execution_count": 77,
     "metadata": {},
     "output_type": "execute_result"
    }
   ],
   "source": [
    "splitArrayH = numpy.hsplit(joinedArrayH, 2)\n",
    "splitArrayH"
   ]
  },
  {
   "cell_type": "code",
   "execution_count": null,
   "id": "31d15f44",
   "metadata": {},
   "outputs": [],
   "source": []
  },
  {
   "cell_type": "code",
   "execution_count": 78,
   "id": "35732d22",
   "metadata": {},
   "outputs": [
    {
     "data": {
      "text/plain": [
       "[array([[1, 2],\n",
       "        [2, 4],\n",
       "        [3, 6]]),\n",
       " array([[ 3,  4],\n",
       "        [ 6,  8],\n",
       "        [ 9, 12]]),\n",
       " array([[  5, 187],\n",
       "        [ 10, 198],\n",
       "        [ 15, 209]]),\n",
       " array([[158, 104],\n",
       "        [125, 255],\n",
       "        [134, 255]]),\n",
       " array([[121, 143],\n",
       "        [255, 147],\n",
       "        [ 97, 182]])]"
      ]
     },
     "execution_count": 78,
     "metadata": {},
     "output_type": "execute_result"
    }
   ],
   "source": [
    "splitArrayH = numpy.hsplit(joinedArrayH, 5)\n",
    "splitArrayH"
   ]
  },
  {
   "cell_type": "code",
   "execution_count": null,
   "id": "6f3809fa",
   "metadata": {},
   "outputs": [],
   "source": []
  },
  {
   "cell_type": "code",
   "execution_count": null,
   "id": "72f4e80f",
   "metadata": {},
   "outputs": [],
   "source": []
  },
  {
   "cell_type": "code",
   "execution_count": 66,
   "id": "402367b7",
   "metadata": {},
   "outputs": [
    {
     "data": {
      "text/plain": [
       "array([[  1,   2,   3,   4,   5],\n",
       "       [  2,   4,   6,   8,  10],\n",
       "       [  3,   6,   9,  12,  15],\n",
       "       [187, 158, 104, 121, 143],\n",
       "       [198, 125, 255, 255, 147],\n",
       "       [209, 134, 255,  97, 182]])"
      ]
     },
     "execution_count": 66,
     "metadata": {},
     "output_type": "execute_result"
    }
   ],
   "source": [
    "joinedArrayV=numpy.vstack((myArray, img_gray)) #stack vertically\n",
    "joinedArrayV"
   ]
  },
  {
   "cell_type": "code",
   "execution_count": 84,
   "id": "8102f82f",
   "metadata": {},
   "outputs": [
    {
     "data": {
      "text/plain": [
       "[array([[ 1,  2,  3,  4,  5],\n",
       "        [ 2,  4,  6,  8, 10],\n",
       "        [ 3,  6,  9, 12, 15]]),\n",
       " array([[187, 158, 104, 121, 143],\n",
       "        [198, 125, 255, 255, 147],\n",
       "        [209, 134, 255,  97, 182]])]"
      ]
     },
     "execution_count": 84,
     "metadata": {},
     "output_type": "execute_result"
    }
   ],
   "source": [
    "splitArrayV = numpy.vsplit(joinedArrayV, 2)\n",
    "splitArrayV"
   ]
  },
  {
   "cell_type": "code",
   "execution_count": 85,
   "id": "eff76668",
   "metadata": {},
   "outputs": [
    {
     "data": {
      "text/plain": [
       "[array([[1, 2, 3, 4, 5]]),\n",
       " array([[ 2,  4,  6,  8, 10]]),\n",
       " array([[ 3,  6,  9, 12, 15]]),\n",
       " array([[187, 158, 104, 121, 143]]),\n",
       " array([[198, 125, 255, 255, 147]]),\n",
       " array([[209, 134, 255,  97, 182]])]"
      ]
     },
     "execution_count": 85,
     "metadata": {},
     "output_type": "execute_result"
    }
   ],
   "source": [
    "splitArrayV = numpy.vsplit(joinedArrayV, 6)\n",
    "splitArrayV"
   ]
  },
  {
   "cell_type": "code",
   "execution_count": 67,
   "id": "ef0faa5e",
   "metadata": {},
   "outputs": [
    {
     "name": "stdout",
     "output_type": "stream",
     "text": [
      "[[  1   2   3   4   5 187 158 104 121 143   1   2   3   4   5]\n",
      " [  2   4   6   8  10 198 125 255 255 147   2   4   6   8  10]\n",
      " [  3   6   9  12  15 209 134 255  97 182   3   6   9  12  15]]\n"
     ]
    }
   ],
   "source": [
    "#join 3 arrays horizontally\n",
    "joinedArray3H=numpy.hstack((myArray, img_gray, myArray))\n",
    "print(joinedArray3H)"
   ]
  },
  {
   "cell_type": "code",
   "execution_count": 68,
   "id": "4ad69a42",
   "metadata": {},
   "outputs": [
    {
     "name": "stdout",
     "output_type": "stream",
     "text": [
      "[[  1   2   3   4   5]\n",
      " [  2   4   6   8  10]\n",
      " [  3   6   9  12  15]\n",
      " [187 158 104 121 143]\n",
      " [198 125 255 255 147]\n",
      " [209 134 255  97 182]\n",
      " [  1   2   3   4   5]\n",
      " [  2   4   6   8  10]\n",
      " [  3   6   9  12  15]]\n"
     ]
    }
   ],
   "source": [
    "#join 3 arrays vertically\n",
    "joinedArray3V=numpy.vstack((myArray, img_gray, myArray))\n",
    "print(joinedArray3V)"
   ]
  },
  {
   "cell_type": "code",
   "execution_count": 76,
   "id": "9b089478",
   "metadata": {},
   "outputs": [
    {
     "data": {
      "text/plain": [
       "[array([[ 1,  2,  3,  4,  5],\n",
       "        [ 2,  4,  6,  8, 10],\n",
       "        [ 3,  6,  9, 12, 15]]),\n",
       " array([[187, 158, 104, 121, 143],\n",
       "        [198, 125, 255, 255, 147],\n",
       "        [209, 134, 255,  97, 182]])]"
      ]
     },
     "execution_count": 76,
     "metadata": {},
     "output_type": "execute_result"
    }
   ],
   "source": []
  },
  {
   "cell_type": "code",
   "execution_count": 75,
   "id": "8dfff4a8",
   "metadata": {},
   "outputs": [
    {
     "data": {
      "text/plain": [
       "[array([[ 1,  2,  3,  4,  5],\n",
       "        [ 2,  4,  6,  8, 10],\n",
       "        [ 3,  6,  9, 12, 15]]),\n",
       " array([[187, 158, 104, 121, 143],\n",
       "        [198, 125, 255, 255, 147],\n",
       "        [209, 134, 255,  97, 182]])]"
      ]
     },
     "execution_count": 75,
     "metadata": {},
     "output_type": "execute_result"
    }
   ],
   "source": []
  },
  {
   "cell_type": "code",
   "execution_count": null,
   "id": "d0bccecc",
   "metadata": {},
   "outputs": [],
   "source": []
  }
 ],
 "metadata": {
  "kernelspec": {
   "display_name": "Python 3 (ipykernel)",
   "language": "python",
   "name": "python3"
  },
  "language_info": {
   "codemirror_mode": {
    "name": "ipython",
    "version": 3
   },
   "file_extension": ".py",
   "mimetype": "text/x-python",
   "name": "python",
   "nbconvert_exporter": "python",
   "pygments_lexer": "ipython3",
   "version": "3.9.7"
  }
 },
 "nbformat": 4,
 "nbformat_minor": 5
}
